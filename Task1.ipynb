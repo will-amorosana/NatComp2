{
 "cells": [
  {
   "cell_type": "code",
   "execution_count": 1,
   "metadata": {},
   "outputs": [],
   "source": [
    "import tensorflow as tf\n",
    "import numpy as np\n",
    "import pyswarms as ps\n",
    "import matplotlib.pyplot as plt"
   ]
  },
  {
   "cell_type": "code",
   "execution_count": 2,
   "metadata": {},
   "outputs": [],
   "source": [
    "## TODO\n",
    "## 1. Fitness function\n",
    "##  - Create a Keras Sequential NN\n",
    "##  - Set its weights according to an array\n",
    "##  - Test it on two_spirals.dat appended to sinx and siny\n",
    "## 2. PSO\n",
    "##  - Just go through PySwarms, or check the tutorial if that doesn't work\n",
    "## Bish\n",
    "## Bash\n",
    "## Bosh"
   ]
  },
  {
   "cell_type": "code",
   "execution_count": 3,
   "metadata": {},
   "outputs": [],
   "source": [
    "## Load in Data and append on sins\n",
    "data = np.genfromtxt('two_spirals.dat')\n",
    "\n",
    "train_split = 0.5\n",
    "train_size = int(data.shape[0]*train_split)\n",
    "\n",
    "data_train = data[0:train_size]\n",
    "data_test = data[train_size:]\n",
    "\n",
    "x_train = data_train[:, 0:2]\n",
    "y_train = data_train[:, 2]\n",
    "x_test = data_test[:, 0:2]\n",
    "y_test = data_test[:, 2]\n",
    "\n",
    "x_train = np.concatenate((x_train, np.sin(x_train)), axis=1)\n",
    "x_test = np.concatenate((x_test, np.sin(x_test)), axis=1)\n"
   ]
  },
  {
   "cell_type": "code",
   "execution_count": 4,
   "metadata": {},
   "outputs": [],
   "source": [
    "    model = tf.keras.Sequential()\n",
    "    model.add(tf.keras.Input(shape=(4,)))\n",
    "    model.add(tf.keras.layers.Dense(4, activation=\"tanh\"))\n",
    "    model.add(tf.keras.layers.Dense(4, activation=\"tanh\"))\n",
    "    model.add(tf.keras.layers.Dense(1, activation=\"sigmoid\"))\n",
    "    model.compile(loss=tf.keras.losses.BinaryCrossentropy(), metrics=[tf.keras.metrics.BinaryAccuracy()])"
   ]
  },
  {
   "cell_type": "code",
   "execution_count": 5,
   "metadata": {},
   "outputs": [],
   "source": [
    "def set_weights(self, weights):\n",
    "        input_w = np.array(weights[:16]).reshape((4, 4))\n",
    "        input_b = np.array(weights[16:20])\n",
    "\n",
    "        h1_w = np.array(weights[20:36]).reshape((4, 4))\n",
    "        h1_b = np.array(weights[36:40])\n",
    "\n",
    "        o_w = np.array(weights[40:44]).reshape((4, 1))\n",
    "        o_b = np.array(weights[44])\n",
    "\n",
    "        self.model.set_weights([input_w, input_b, h1_w, h1_b, o_w, o_b])"
   ]
  },
  {
   "cell_type": "code",
   "execution_count": 6,
   "metadata": {},
   "outputs": [],
   "source": [
    "def sigmoid(x):\n",
    "    return 1 / (1 + np.exp(-x))"
   ]
  },
  {
   "cell_type": "code",
   "execution_count": 13,
   "metadata": {},
   "outputs": [],
   "source": [
    "#Fuck it, we'll do it with keras\n",
    "def forward_prop(weights):\n",
    "    input_w = np.array(weights[:16]).reshape((4, 4))\n",
    "    input_b = np.array(weights[16:20])\n",
    "    h1_w = np.array(weights[20:36]).reshape((4, 4))\n",
    "    h1_b = np.array(weights[36:40])\n",
    "    o_w = np.array(weights[40:44]).reshape((4, 1))\n",
    "    o_b = np.array(weights[44:45])\n",
    "    model.set_weights([input_w, input_b, h1_w, h1_b, o_w, o_b])\n",
    "    loss, acc = model.evaluate(x_train, y_train, verbose=0)\n",
    "    return loss\n",
    "\n",
    "def full_eval(weights):\n",
    "    input_w = np.array(weights[:16]).reshape((4, 4))\n",
    "    input_b = np.array(weights[16:20])\n",
    "    h1_w = np.array(weights[20:36]).reshape((4, 4))\n",
    "    h1_b = np.array(weights[36:40])\n",
    "    o_w = np.array(weights[40:44]).reshape((4, 1))\n",
    "    o_b = np.array(weights[44:45])\n",
    "    model.set_weights([input_w, input_b, h1_w, h1_b, o_w, o_b])\n",
    "    loss, acc = model.evaluate(x_train, y_train, verbose=0)\n",
    "    return acc, loss\n"
   ]
  },
  {
   "cell_type": "code",
   "execution_count": 8,
   "metadata": {},
   "outputs": [],
   "source": [
    "def f(x):\n",
    "    n_particles = x.shape[0]\n",
    "    j = [forward_prop(x[i]) for i in range(n_particles)]\n",
    "    return np.array(j)"
   ]
  },
  {
   "cell_type": "code",
   "execution_count": null,
   "metadata": {},
   "outputs": [
    {
     "name": "stderr",
     "output_type": "stream",
     "text": [
      "2020-11-24 17:18:58,940 - pyswarms.single.global_best - INFO - Optimize for 200 iters with {'c1': 0.5, 'c2': 0.3, 'w': 0.9}\n",
      "pyswarms.single.global_best:  86%|███████████████████████████████████████████████████▌        |172/200, best_cost=0.536"
     ]
    }
   ],
   "source": [
    "options = {'c1': 0.5, 'c2': 0.3, 'w':0.9} #(From tutorial)\n",
    "#options = {'c1': 2, 'c2': 2, 'w':.7} #(From Slides)\n",
    "\n",
    "# Call instance of PSO\n",
    "dimensions = 45\n",
    "optimizer = ps.single.GlobalBestPSO(n_particles=100, dimensions=dimensions, options=options)\n",
    "\n",
    "# Perform optimization\n",
    "cost, pos = optimizer.optimize(f, iters=200, verbose=3)"
   ]
  },
  {
   "cell_type": "code",
   "execution_count": 33,
   "metadata": {},
   "outputs": [
    {
     "data": {
      "text/plain": [
       "45"
      ]
     },
     "execution_count": 33,
     "metadata": {},
     "output_type": "execute_result"
    }
   ],
   "source": [
    "best_pos = [ 1.00523534,  0.22140946,  0.52381663,  1.54887746, -0.12400607,  1.55772554,\n",
    "  1.09964644,  0.8128848,  -0.80463118, -0.31452058, -1.19872529,  0.14699364,\n",
    " -4.29258299, -1.6323941,  -2.67659001,  1.54244793,  0.02167537, -0.00856625,\n",
    "  0.05949636, -0.11349656, -2.31962025,  1.09148559, -0.28580282, -1.233924,\n",
    " -0.90152233,  1.00517347, -2.8924554,  -0.12479895,  0.69707256,  0.57917403,\n",
    "  1.62138966,  0.07335975, -1.22610372, -0.36882873,  1.73012589,  1.08385603,\n",
    " -0.12867708, -1.5335164,  -0.00974833,  0.25181078, -4.55338902, -0.35205754,\n",
    " -5.45733827, -0.32773291, -0.25069097]\n",
    "len(best_pos)"
   ]
  },
  {
   "cell_type": "code",
   "execution_count": 14,
   "metadata": {},
   "outputs": [
    {
     "data": {
      "text/plain": [
       "(0.6590909361839294, 0.6153444647789001)"
      ]
     },
     "execution_count": 14,
     "metadata": {},
     "output_type": "execute_result"
    }
   ],
   "source": [
    "best_pos2 = [ 2.32912402e-01,  7.59223247e-01, -1.60293154e+00,  2.54886511e-01,\n",
    " -9.39916623e-02,  1.05891315e+00,  9.52253299e-01,  3.40068904e+00,\n",
    "  4.15635411e-01, -1.39027017e+00,  6.15521267e-01,  2.23665472e+00,\n",
    "  6.24613256e+01,  1.10877500e+00,  3.64566971e-01, -2.31390221e-01,\n",
    " -2.90597980e-02, -2.07622280e+00, -3.49220373e-02, -2.36109963e-01,\n",
    " -4.66982225e+00, -8.57648196e-01, -1.60988410e+00,  1.18722543e-01,\n",
    "  1.77641403e+00,  2.61158322e-01, -7.34770562e+01, -8.72765686e-01,\n",
    "  1.27726323e+00, -4.77660361e-01, -2.96075375e-01, -1.51127245e-01,\n",
    " -5.85661562e+00, -2.69671150e-01,  5.59598812e+00,  9.70191585e-01,\n",
    "  5.92593622e-01, 4.69115187e-01,  1.67526924e+00,  2.08746043e+00,\n",
    "  1.10809978e+00, -4.75213369e-01, -1.01718936e+00,  4.51356170e-01,\n",
    "  2.57219158e-01]\n",
    "full_eval(best_pos2)"
   ]
  },
  {
   "cell_type": "code",
   "execution_count": 10,
   "metadata": {},
   "outputs": [
    {
     "ename": "NameError",
     "evalue": "name 'best_pos' is not defined",
     "output_type": "error",
     "traceback": [
      "\u001b[1;31m---------------------------------------------------------------------------\u001b[0m",
      "\u001b[1;31mNameError\u001b[0m                                 Traceback (most recent call last)",
      "\u001b[1;32m<ipython-input-10-7dece5eb12cc>\u001b[0m in \u001b[0;36m<module>\u001b[1;34m\u001b[0m\n\u001b[1;32m----> 1\u001b[1;33m \u001b[0mforward_prop\u001b[0m\u001b[1;33m(\u001b[0m\u001b[0mbest_pos\u001b[0m\u001b[1;33m)\u001b[0m\u001b[1;33m\u001b[0m\u001b[1;33m\u001b[0m\u001b[0m\n\u001b[0m\u001b[0;32m      2\u001b[0m \u001b[1;31m# First try (tutorial parameters): (0.26663896441459656, 0.8712121248245239)\u001b[0m\u001b[1;33m\u001b[0m\u001b[1;33m\u001b[0m\u001b[1;33m\u001b[0m\u001b[0m\n\u001b[0;32m      3\u001b[0m \u001b[1;31m# Second try (parameters from slides): ()\u001b[0m\u001b[1;33m\u001b[0m\u001b[1;33m\u001b[0m\u001b[1;33m\u001b[0m\u001b[0m\n",
      "\u001b[1;31mNameError\u001b[0m: name 'best_pos' is not defined"
     ]
    }
   ],
   "source": [
    "forward_prop(best_pos)\n",
    "# First try (tutorial parameters): (0.26663896441459656, 0.8712121248245239)\n",
    "# Second try (parameters from slides): (0.6590909361839294, 0.6153444647789001)\n",
    "# Third try (Redo tutorial params): ()"
   ]
  },
  {
   "cell_type": "code",
   "execution_count": null,
   "metadata": {},
   "outputs": [],
   "source": []
  }
 ],
 "metadata": {
  "kernelspec": {
   "display_name": "Python 3",
   "language": "python",
   "name": "python3"
  },
  "language_info": {
   "codemirror_mode": {
    "name": "ipython",
    "version": 3
   },
   "file_extension": ".py",
   "mimetype": "text/x-python",
   "name": "python",
   "nbconvert_exporter": "python",
   "pygments_lexer": "ipython3",
   "version": "3.8.6"
  }
 },
 "nbformat": 4,
 "nbformat_minor": 4
}
