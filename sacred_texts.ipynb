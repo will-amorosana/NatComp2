{
 "cells": [
  {
   "cell_type": "code",
   "execution_count": null,
   "metadata": {},
   "outputs": [],
   "source": [
    "def set_weights(self, weights):\n",
    "        input_w = np.array(weights[:16]).reshape((4, 4))\n",
    "        input_b = np.array(weights[16:20])\n",
    "\n",
    "        h1_w = np.array(weights[20:36]).reshape((4, 4))\n",
    "        h1_b = np.array(weights[36:40])\n",
    "\n",
    "        h2_w = np.array(weights[40:56]).reshape((4, 4))\n",
    "        h2_b = np.array(weights[56:60])\n",
    "\n",
    "        o_w = np.array(weights[60:64]).reshape((4, 1))\n",
    "        o_b = np.array(weights[64:65])\n",
    "\n",
    "        self.model.set_weights([input_w, input_b, h1_w, h1_b, h2_w, h2_b, o_w, o_b])\n",
    "        \n",
    "## Where the weights parameter is an array of length 65\n",
    "## and model is a Keras sequential NNs"
   ]
  }
 ],
 "metadata": {
  "kernelspec": {
   "display_name": "Python 3",
   "language": "python",
   "name": "python3"
  },
  "language_info": {
   "codemirror_mode": {
    "name": "ipython",
    "version": 3
   },
   "file_extension": ".py",
   "mimetype": "text/x-python",
   "name": "python",
   "nbconvert_exporter": "python",
   "pygments_lexer": "ipython3",
   "version": "3.8.6"
  }
 },
 "nbformat": 4,
 "nbformat_minor": 4
}
