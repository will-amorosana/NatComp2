{
 "cells": [
  {
   "cell_type": "markdown",
   "metadata": {},
   "source": [
    "This is a simple illustration of a [Particle Swarm](https://en.wikipedia.org/wiki/Particle_swarm_optimization) trying to find the minimum of the [Rosenbrock function](https://en.wikipedia.org/wiki/Rosenbrock_function). Obviously the code is imperfect, but this should serve as a useful illustration.\n",
    "\n",
    "Parameters can be set in the \"PSO\" function in the last cell of this notebook. Consider the following tasks:\n",
    "- Higher search space dimensions (you may need more time in this case(\n",
    "- change the population size (does a larger swarm imply shorter search time?>)\n",
    "- Try out other parameter values\n",
    "    - increase or decreast any of w, a1 or a2\n",
    "    - change sign of w\n",
    "- Implement a different goal function, e.g. the [Rastrigin function](https://en.wikipedia.org/wiki/Rastrigin_function). \n",
    "- Add an avarage for statistical evaluation (like wedid in the GA notebook)\n",
    "- If you know python well, you can try to include an animation, e.g. to visualise search biasses "
   ]
  },
  {
   "cell_type": "code",
   "execution_count": 2,
   "metadata": {},
   "outputs": [],
   "source": [
    "import numpy as np\n",
    "import itertools"
   ]
  },
  {
   "cell_type": "markdown",
   "metadata": {},
   "source": [
    "The following will be the goal (\"fitness\") function. Here it is to be minimised."
   ]
  },
  {
   "cell_type": "code",
   "execution_count": 3,
   "metadata": {},
   "outputs": [],
   "source": [
    "def rosenbrock(pos,dim):    #this serves as a goal function\n",
    "                            # Defined by f(x,y) = (a-x)^2 + b(y-x^2)^2\n",
    "                            # Using here: a = 1, b= 100, optimum 0 at (1,1)\n",
    "        if dim==2:\n",
    "            return ((1-pos[0])**2 + 100*(pos[1] - pos[0]**2)**2)\n",
    "        elif dim==1:\n",
    "            return (1-pos[0])**2 \n",
    "        else: \n",
    "            ros=0;\n",
    "            for i in range(dim-1):\n",
    "                ros=ros+100*(pos[i+1] - pos[i]**2)**2 * (1-pos[i])**2 \n",
    "            return ros"
   ]
  },
  {
   "cell_type": "code",
   "execution_count": 4,
   "metadata": {},
   "outputs": [],
   "source": [
    "class Particle: # all the material that is relavant at the level of the individual particles\n",
    "    \n",
    "    def __init__(self, dim, minx, maxx):\n",
    "        self.position = np.random.uniform(low=minx, high=maxx, size=dim)\n",
    "        self.velocity = np.random.uniform(low=-0.1, high=0.1, size=dim)\n",
    "        self.best_particle_pos = self.position\n",
    "        self.dim = dim\n",
    "\n",
    "        self.fitness = rosenbrock(self.position,dim)\n",
    "        self.best_particle_fitness = self.fitness   # we couldd start with very large number here, \n",
    "                                                    #but the actual value is better in case we are lucky \n",
    "                \n",
    "    def setPos(self, pos):\n",
    "        self.position = pos\n",
    "        self.fitness = rosenbrock(self.position,self.dim)\n",
    "        if self.fitness<self.best_particle_fitness:     # to update the personal best both \n",
    "                                                        # position (for velocity update) and\n",
    "                                                        # fitness (the new standard) are needed\n",
    "                                                        # global best is update on swarm leven\n",
    "            self.best_particle_fitness = self.fitness\n",
    "            self.best_particle_pos = pos\n",
    "\n",
    "    def updateVel(self, inertia, a1, a2, best_self_pos, best_swarm_pos):\n",
    "                # Here we use the canonical version\n",
    "                # V <- inertia*V + a1r1 (peronal_best - current_pos) + a2r2 (global_best - current_pos)\n",
    "        cur_vel = self.velocity\n",
    "        r1 = np.random.uniform(low=0, high=1, size = self.dim)\n",
    "        r2 = np.random.uniform(low=0, high=1, size = self.dim)\n",
    "        a1r1 = np.multiply(a1, r1)\n",
    "        a2r2 = np.multiply(a2, r2)\n",
    "        best_self_dif = np.subtract(best_self_pos, self.position)\n",
    "        best_swarm_dif = np.subtract(best_swarm_pos, self.position)\n",
    "                    # the next line is the main equation, namely the velocity update, \n",
    "                    # the velocities are added to the positions at swarm level \n",
    "        return inertia*cur_vel + np.multiply(a1r1, best_self_dif) + np.multiply(a2r2, best_swarm_dif)\n"
   ]
  },
  {
   "cell_type": "code",
   "execution_count": 5,
   "metadata": {},
   "outputs": [],
   "source": [
    "class PSO: # all the material that is relavant at swarm leveel\n",
    "\n",
    "    def __init__(self, w, a1, a2, dim, population_size, time_steps, search_range):\n",
    "\n",
    "        # Here we use values that are (somewhat) known to be good\n",
    "        # There are no \"best\" parameters (No Free Lunch), so try using different ones\n",
    "        # There are several papers online which discuss various different tunings of a1 and a2\n",
    "        # for different types of problems\n",
    "        self.w = w # Inertia\n",
    "        self.a1 = a2 # Attraction to personal best\n",
    "        self.a2 = a2 # Attraction to global best\n",
    "        self.dim = dim\n",
    "\n",
    "        self.swarm = [Particle(dim,-search_range,search_range) for i in range(population_size)]\n",
    "        self.time_steps = time_steps\n",
    "        print('init')\n",
    "\n",
    "        # Initialising global best, you can wait until the end of the first time step\n",
    "        # but creating a random initial best and fitness which is very high will mean you\n",
    "        # do not have to write an if statement for the one off case\n",
    "        self.best_swarm_pos = np.random.uniform(low=-500, high=500, size=dim)\n",
    "        self.best_swarm_fitness = 1e100\n",
    "\n",
    "    def run(self):\n",
    "        for t in range(self.time_steps):\n",
    "            for p in range(len(self.swarm)):\n",
    "                particle = self.swarm[p]\n",
    "\n",
    "                new_position = particle.position + particle.updateVel(self.w, self.a1, self.a2, particle.best_particle_pos, self.best_swarm_pos)\n",
    "                                \n",
    "                if new_position@new_position > 1.0e+18: # The search will be terminated if the distance \n",
    "                                                        # of any particle from center is too large\n",
    "                    print('Time:', t,'Best Pos:',self.best_swarm_pos,'Best Fit:',self.best_swarm_fitness)\n",
    "                    raise SystemExit('Most likely divergent: Decrease parameter values')\n",
    " \n",
    "                self.swarm[p].setPos(new_position)\n",
    "\n",
    "                new_fitness = rosenbrock(new_position,self.dim)\n",
    "\n",
    "                if new_fitness < self.best_swarm_fitness:   # to update the global best both \n",
    "                                                            # position (for velocity update) and\n",
    "                                                            # fitness (the new group norm) are needed\n",
    "                    self.best_swarm_fitness = new_fitness\n",
    "                    self.best_swarm_pos = new_position\n",
    "\n",
    "            if t % 100 == 0: #we print only two components even it search space is high-dimensional\n",
    "                print(\"Time: %6d,  Best Fitness: %14.6f,  Best Pos: %9.4f,%9.4f\" % (t,self.best_swarm_fitness,self.best_swarm_pos[0],self.best_swarm_pos[1]), end =\" \")\n",
    "                if self.dim>2: \n",
    "                    print('...')\n",
    "                else:\n",
    "                    print('')"
   ]
  },
  {
   "cell_type": "markdown",
   "metadata": {},
   "source": [
    "Standard values are dim=2, w=0.7, a1=2.02, a2=2.02, population_size=30; but feel free to try others ones."
   ]
  },
  {
   "cell_type": "code",
   "execution_count": 13,
   "metadata": {},
   "outputs": [
    {
     "name": "stdout",
     "output_type": "stream",
     "text": [
      "init\n",
      "Time:      0,  Best Fitness:   48644.168626,  Best Pos:   -8.1431,  88.3465 \n",
      "Time:    100,  Best Fitness:       0.005527,  Best Pos:    0.9328,   0.8733 \n",
      "Time:    200,  Best Fitness:       0.000081,  Best Pos:    1.0011,   1.0032 \n",
      "Time:    300,  Best Fitness:       0.000081,  Best Pos:    1.0011,   1.0032 \n",
      "Time:    400,  Best Fitness:       0.000011,  Best Pos:    1.0021,   1.0039 \n",
      "Time:    500,  Best Fitness:       0.000011,  Best Pos:    1.0021,   1.0039 \n",
      "Time:    600,  Best Fitness:       0.000011,  Best Pos:    1.0021,   1.0039 \n",
      "Time:    700,  Best Fitness:       0.000011,  Best Pos:    1.0021,   1.0039 \n",
      "Time:    800,  Best Fitness:       0.000011,  Best Pos:    1.0021,   1.0039 \n",
      "Time:    900,  Best Fitness:       0.000011,  Best Pos:    1.0021,   1.0039 \n",
      "Time:   1000,  Best Fitness:       0.000007,  Best Pos:    0.9979,   0.9959 \n"
     ]
    }
   ],
   "source": [
    "PSO(dim=2, w=0.7, a1=2, a2=2, population_size=30, time_steps=1001, search_range=100).run()"
   ]
  },
  {
   "cell_type": "code",
   "execution_count": null,
   "metadata": {},
   "outputs": [],
   "source": []
  }
 ],
 "metadata": {
  "kernelspec": {
   "display_name": "Python 3",
   "language": "python",
   "name": "python3"
  },
  "language_info": {
   "codemirror_mode": {
    "name": "ipython",
    "version": 3
   },
   "file_extension": ".py",
   "mimetype": "text/x-python",
   "name": "python",
   "nbconvert_exporter": "python",
   "pygments_lexer": "ipython3",
   "version": "3.8.6"
  }
 },
 "nbformat": 4,
 "nbformat_minor": 4
}
